{
  "nbformat": 4,
  "nbformat_minor": 0,
  "metadata": {
    "colab": {
      "name": "DGraphDTA relevant function.ipynb",
      "provenance": [],
      "collapsed_sections": [],
      "authorship_tag": "ABX9TyNeem+Knso/bY+ls1kaj64x",
      "include_colab_link": true
    },
    "kernelspec": {
      "name": "python3",
      "display_name": "Python 3"
    },
    "language_info": {
      "name": "python"
    }
  },
  "cells": [
    {
      "cell_type": "markdown",
      "metadata": {
        "id": "view-in-github",
        "colab_type": "text"
      },
      "source": [
        "<a href=\"https://colab.research.google.com/github/kevinforit/hello-world/blob/master/DGraphDTA_relevant_function.ipynb\" target=\"_parent\"><img src=\"https://colab.research.google.com/assets/colab-badge.svg\" alt=\"Open In Colab\"/></a>"
      ]
    },
    {
      "cell_type": "code",
      "source": [
        "!pip install rdkit-pypi\n",
        "\n",
        "\n",
        "import json, pickle\n",
        "from collections import OrderedDict\n",
        "from rdkit import Chem\n",
        "from rdkit.Chem import MolFromSmiles\n",
        "import networkx as nx"
      ],
      "metadata": {
        "colab": {
          "base_uri": "https://localhost:8080/"
        },
        "id": "koF6M1OAagyd",
        "outputId": "833b655b-54e7-42a9-9b14-a20918a19076"
      },
      "execution_count": 1,
      "outputs": [
        {
          "output_type": "stream",
          "name": "stdout",
          "text": [
            "Collecting rdkit-pypi\n",
            "  Downloading rdkit_pypi-2021.9.4-cp37-cp37m-manylinux_2_17_x86_64.manylinux2014_x86_64.whl (20.6 MB)\n",
            "\u001b[K     |████████████████████████████████| 20.6 MB 1.1 MB/s \n",
            "\u001b[?25hRequirement already satisfied: Pillow in /usr/local/lib/python3.7/dist-packages (from rdkit-pypi) (7.1.2)\n",
            "Requirement already satisfied: numpy>=1.19 in /usr/local/lib/python3.7/dist-packages (from rdkit-pypi) (1.21.5)\n",
            "Installing collected packages: rdkit-pypi\n",
            "Successfully installed rdkit-pypi-2021.9.4\n"
          ]
        }
      ]
    },
    {
      "cell_type": "code",
      "execution_count": null,
      "metadata": {
        "id": "vV3a_po6V4nf"
      },
      "outputs": [],
      "source": [
        "def residue_features(residue):\n",
        "    res_property1 = [1 if residue in pro_res_aliphatic_table else 0, 1 if residue in pro_res_aromatic_table else 0,\n",
        "                     1 if residue in pro_res_polar_neutral_table else 0,\n",
        "                     1 if residue in pro_res_acidic_charged_table else 0,\n",
        "                     1 if residue in pro_res_basic_charged_table else 0]\n",
        "    #进行onehot编码，并且不同性质的residue可以直接编出property1，不错\n",
        "    res_property2 = [res_weight_table[residue], res_pka_table[residue], res_pkb_table[residue], res_pkx_table[residue],\n",
        "                     res_pl_table[residue], res_hydrophobic_ph2_table[residue], res_hydrophobic_ph7_table[residue]]\n",
        "    #定义出该residue相关的理化性质，列表形式--二维矩阵\n",
        "    # print(np.array(res_property1 + res_property2).shape)\n",
        "\n",
        "    return np.array(res_property1 + res_property2)#编为元组，统一化\n"
      ]
    },
    {
      "cell_type": "code",
      "source": [
        "def atom_features(atom):\n",
        "    # 44 +11 +11 +11 +1\n",
        "    return np.array(one_of_k_encoding_unk(atom.GetSymbol(),\n",
        "                                          ['C', 'N', 'O', 'S', 'F', 'Si', 'P', 'Cl', 'Br', 'Mg', 'Na', 'Ca', 'Fe', 'As',\n",
        "                                           'Al', 'I', 'B', 'V', 'K', 'Tl', 'Yb', 'Sb', 'Sn', 'Ag', 'Pd', 'Co', 'Se',\n",
        "                                           'Ti', 'Zn', 'H', 'Li', 'Ge', 'Cu', 'Au', 'Ni', 'Cd', 'In', 'Mn', 'Zr', 'Cr',\n",
        "                                           'Pt', 'Hg', 'Pb', 'X']) +\n",
        "                    one_of_k_encoding(atom.GetDegree(), [0, 1, 2, 3, 4, 5, 6, 7, 8, 9, 10]) +\n",
        "                    one_of_k_encoding_unk(atom.GetTotalNumHs(), [0, 1, 2, 3, 4, 5, 6, 7, 8, 9, 10]) +\n",
        "                    one_of_k_encoding_unk(atom.GetImplicitValence(), [0, 1, 2, 3, 4, 5, 6, 7, 8, 9, 10]) +\n",
        "                    [atom.GetIsAromatic()])"
      ],
      "metadata": {
        "id": "_5u3wimbb6uC"
      },
      "execution_count": null,
      "outputs": []
    },
    {
      "cell_type": "code",
      "source": [
        "\n",
        "def one_of_k_encoding_unk(x, allowable_set):\n",
        "    '''Maps inputs not in the allowable set to the last element.'''\n",
        "    if x not in allowable_set:\n",
        "        x = allowable_set[-1]\n",
        "    return list(map(lambda s: x == s, allowable_set))\n",
        "\n",
        "\n",
        "# mol smile to mol graph edge index，对edge的index进行设置，这里利用了chem库，应该是可以调用输入元素的化学性质\n",
        "def smile_to_graph(smile):\n",
        "    mol = Chem.MolFromSmiles(smile)\n",
        "\n",
        "    c_size = mol.GetNumAtoms()\n",
        "\n",
        "    features = []\n",
        "    for atom in mol.GetAtoms():\n",
        "        feature = atom_features(atom)\n",
        "        features.append(feature / sum(feature))\n",
        "#对于atom，设定edge index，以及下面的bond index\n",
        "    edges = []\n",
        "    for bond in mol.GetBonds():\n",
        "        edges.append([bond.GetBeginAtomIdx(), bond.GetEndAtomIdx()])\n",
        "    g = nx.Graph(edges).to_directed()\n",
        "    edge_index = [] #edge index 首先需要把edge的列表 图展示化，随后再进行index的赋值\n",
        "    mol_adj = np.zeros((c_size, c_size))\n",
        "    for e1, e2 in g.edges:\n",
        "        mol_adj[e1, e2] = 1\n",
        "        # edge_index.append([e1, e2])\n",
        "    mol_adj += np.matrix(np.eye(mol_adj.shape[0]))\n",
        "    index_row, index_col = np.where(mol_adj >= 0.5)\n",
        "    for i, j in zip(index_row, index_col):\n",
        "        edge_index.append([i, j])\n",
        "    # print('smile_to_graph')\n",
        "    # print(np.array(features).shape)\n",
        "    return c_size, features, edge_index"
      ],
      "metadata": {
        "id": "aU0iv_4DaCLq"
      },
      "execution_count": null,
      "outputs": []
    }
  ]
}